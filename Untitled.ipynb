{
 "cells": [
  {
   "cell_type": "code",
   "execution_count": 1,
   "id": "3b438d94-53ed-47e1-87b5-c0a3e90c7060",
   "metadata": {
    "collapsed": true,
    "jupyter": {
     "outputs_hidden": true
    }
   },
   "outputs": [
    {
     "name": "stdout",
     "output_type": "stream",
     "text": [
      "Collecting gdown\n",
      "  Downloading gdown-4.7.3-py3-none-any.whl (16 kB)\n",
      "Requirement already satisfied: tqdm in /venv/main/lib/python3.7/site-packages (from gdown) (4.67.1)\n",
      "Requirement already satisfied: filelock in /venv/main/lib/python3.7/site-packages (from gdown) (3.12.2)\n",
      "Requirement already satisfied: six in /venv/main/lib/python3.7/site-packages (from gdown) (1.17.0)\n",
      "Collecting beautifulsoup4\n",
      "  Downloading beautifulsoup4-4.13.4-py3-none-any.whl (187 kB)\n",
      "\u001b[2K     \u001b[90m━━━━━━━━━━━━━━━━━━━━━━━━━━━━━━━━━━━━━━━\u001b[0m \u001b[32m187.3/187.3 kB\u001b[0m \u001b[31m2.0 MB/s\u001b[0m eta \u001b[36m0:00:00\u001b[0ma \u001b[36m0:00:01\u001b[0m\n",
      "\u001b[?25hRequirement already satisfied: requests[socks] in /venv/main/lib/python3.7/site-packages (from gdown) (2.31.0)\n",
      "Collecting soupsieve>1.2\n",
      "  Downloading soupsieve-2.4.1-py3-none-any.whl (36 kB)\n",
      "Requirement already satisfied: typing-extensions>=4.0.0 in /venv/main/lib/python3.7/site-packages (from beautifulsoup4->gdown) (4.7.1)\n",
      "Requirement already satisfied: urllib3<3,>=1.21.1 in /venv/main/lib/python3.7/site-packages (from requests[socks]->gdown) (2.0.7)\n",
      "Requirement already satisfied: charset-normalizer<4,>=2 in /venv/main/lib/python3.7/site-packages (from requests[socks]->gdown) (3.4.1)\n",
      "Requirement already satisfied: certifi>=2017.4.17 in /venv/main/lib/python3.7/site-packages (from requests[socks]->gdown) (2025.1.31)\n",
      "Requirement already satisfied: idna<4,>=2.5 in /venv/main/lib/python3.7/site-packages (from requests[socks]->gdown) (3.10)\n",
      "Collecting PySocks!=1.5.7,>=1.5.6\n",
      "  Downloading PySocks-1.7.1-py3-none-any.whl (16 kB)\n",
      "Installing collected packages: soupsieve, PySocks, beautifulsoup4, gdown\n",
      "Successfully installed PySocks-1.7.1 beautifulsoup4-4.13.4 gdown-4.7.3 soupsieve-2.4.1\n",
      "\n",
      "\u001b[1m[\u001b[0m\u001b[34;49mnotice\u001b[0m\u001b[1;39;49m]\u001b[0m\u001b[39;49m A new release of pip is available: \u001b[0m\u001b[31;49m23.0.1\u001b[0m\u001b[39;49m -> \u001b[0m\u001b[32;49m24.0\u001b[0m\n",
      "\u001b[1m[\u001b[0m\u001b[34;49mnotice\u001b[0m\u001b[1;39;49m]\u001b[0m\u001b[39;49m To update, run: \u001b[0m\u001b[32;49mpip install --upgrade pip\u001b[0m\n"
     ]
    }
   ],
   "source": [
    "!pip install gdown\n"
   ]
  },
  {
   "cell_type": "code",
   "execution_count": 4,
   "id": "1f8c790b-31b8-4f3b-9320-c7ef0f34694d",
   "metadata": {},
   "outputs": [
    {
     "name": "stdout",
     "output_type": "stream",
     "text": [
      "/venv/main/lib/python3.7/site-packages/gdown/cli.py:142: FutureWarning: Option `--id` was deprecated in version 4.3.1 and will be removed in 5.0. You don't need to pass it anymore to use a file ID.\n",
      "  category=FutureWarning,\n",
      "Downloading...\n",
      "From (original): https://drive.google.com/uc?id=1IM1VFTEiLaGSeL6tyX26fYj-x_QVkJtH\n",
      "From (redirected): https://drive.google.com/uc?id=1IM1VFTEiLaGSeL6tyX26fYj-x_QVkJtH&confirm=t&uuid=2326e07a-e6bb-433a-a8d9-8f734ca12b87\n",
      "To: /PJ/SS.zip\n",
      "100%|██████████████████████████████████████| 2.11G/2.11G [00:27<00:00, 76.8MB/s]\n"
     ]
    }
   ],
   "source": [
    "!gdown --id 1IM1VFTEiLaGSeL6tyX26fYj-x_QVkJtH"
   ]
  },
  {
   "cell_type": "code",
   "execution_count": 10,
   "id": "787a8b36-c11f-4903-a570-0ac9b5ce1ff6",
   "metadata": {},
   "outputs": [],
   "source": [
    "!cd SS"
   ]
  },
  {
   "cell_type": "code",
   "execution_count": 13,
   "id": "be7643e2-e4d6-460b-9aa1-4da78086a77e",
   "metadata": {
    "collapsed": true,
    "jupyter": {
     "outputs_hidden": true
    }
   },
   "outputs": [
    {
     "name": "stdout",
     "output_type": "stream",
     "text": [
      "Collecting boto3==1.33.13\n",
      "  Downloading boto3-1.33.13-py3-none-any.whl (139 kB)\n",
      "\u001b[2K     \u001b[90m━━━━━━━━━━━━━━━━━━━━━━━━━━━━━━━━━━━━━━━\u001b[0m \u001b[32m139.3/139.3 kB\u001b[0m \u001b[31m1.5 MB/s\u001b[0m eta \u001b[36m0:00:00\u001b[0ma \u001b[36m0:00:01\u001b[0m\n",
      "Collecting botocore==1.33.13\n",
      "  Downloading botocore-1.33.13-py3-none-any.whl (11.8 MB)\n",
      "\u001b[2K     \u001b[90m━━━━━━━━━━━━━━━━━━━━━━━━━━━━━━━━━━━━━━━━\u001b[0m \u001b[32m11.8/11.8 MB\u001b[0m \u001b[31m53.0 MB/s\u001b[0m eta \u001b[36m0:00:00\u001b[0m00:01\u001b[0m00:01\u001b[0m\n",
      "Collecting certifi==2025.7.14\n",
      "  Downloading certifi-2025.7.14-py3-none-any.whl (162 kB)\n",
      "\u001b[2K     \u001b[90m━━━━━━━━━━━━━━━━━━━━━━━━━━━━━━━━━━━━━━━\u001b[0m \u001b[32m162.7/162.7 kB\u001b[0m \u001b[31m6.1 MB/s\u001b[0m eta \u001b[36m0:00:00\u001b[0m\n",
      "Collecting charset-normalizer==3.4.2\n",
      "  Downloading charset_normalizer-3.4.2-cp37-cp37m-manylinux_2_17_x86_64.manylinux2014_x86_64.whl (141 kB)\n",
      "\u001b[2K     \u001b[90m━━━━━━━━━━━━━━━━━━━━━━━━━━━━━━━━━━━━━━\u001b[0m \u001b[32m141.3/141.3 kB\u001b[0m \u001b[31m12.0 MB/s\u001b[0m eta \u001b[36m0:00:00\u001b[0m\n",
      "Collecting click==8.1.8\n",
      "  Downloading click-8.1.8-py3-none-any.whl (98 kB)\n",
      "\u001b[2K     \u001b[90m━━━━━━━━━━━━━━━━━━━━━━━━━━━━━━━━━━━━━━━━\u001b[0m \u001b[32m98.2/98.2 kB\u001b[0m \u001b[31m24.4 MB/s\u001b[0m eta \u001b[36m0:00:00\u001b[0m\n",
      "Collecting colorama==0.4.6\n",
      "  Downloading colorama-0.4.6-py2.py3-none-any.whl (25 kB)\n",
      "Collecting dill==0.3.7\n",
      "  Downloading dill-0.3.7-py3-none-any.whl (115 kB)\n",
      "\u001b[2K     \u001b[90m━━━━━━━━━━━━━━━━━━━━━━━━━━━━━━━━━━━━━━\u001b[0m \u001b[32m115.3/115.3 kB\u001b[0m \u001b[31m35.8 MB/s\u001b[0m eta \u001b[36m0:00:00\u001b[0m\n",
      "Collecting dnspython==2.3.0\n",
      "  Downloading dnspython-2.3.0-py3-none-any.whl (283 kB)\n",
      "\u001b[2K     \u001b[90m━━━━━━━━━━━━━━━━━━━━━━━━━━━━━━━━━━━━━━\u001b[0m \u001b[32m283.7/283.7 kB\u001b[0m \u001b[31m56.4 MB/s\u001b[0m eta \u001b[36m0:00:00\u001b[0m\n",
      "Collecting future==1.0.0\n",
      "  Downloading future-1.0.0-py3-none-any.whl (491 kB)\n",
      "\u001b[2K     \u001b[90m━━━━━━━━━━━━━━━━━━━━━━━━━━━━━━━━━━━━━━\u001b[0m \u001b[32m491.3/491.3 kB\u001b[0m \u001b[31m30.9 MB/s\u001b[0m eta \u001b[36m0:00:00\u001b[0m\n",
      "Collecting h5py==3.8.0\n",
      "  Downloading h5py-3.8.0-cp37-cp37m-manylinux_2_17_x86_64.manylinux2014_x86_64.whl (4.3 MB)\n",
      "\u001b[2K     \u001b[90m━━━━━━━━━━━━━━━━━━━━━━━━━━━━━━━━━━━━━━━━\u001b[0m \u001b[32m4.3/4.3 MB\u001b[0m \u001b[31m5.9 MB/s\u001b[0m eta \u001b[36m0:00:00\u001b[0m00:01\u001b[0m:00:01\u001b[0mm\n",
      "Collecting hyperopt==0.1.2\n",
      "  Downloading hyperopt-0.1.2-py3-none-any.whl (115 kB)\n",
      "\u001b[2K     \u001b[90m━━━━━━━━━━━━━━━━━━━━━━━━━━━━━━━━━━━━━━━\u001b[0m \u001b[32m115.2/115.2 kB\u001b[0m \u001b[31m8.4 MB/s\u001b[0m eta \u001b[36m0:00:00\u001b[0m\n",
      "\u001b[?25hRequirement already satisfied: idna==3.10 in /venv/main/lib/python3.7/site-packages (from -r SS/requirements379.txt (line 16)) (3.10)\n",
      "Requirement already satisfied: importlib-metadata==6.7.0 in /venv/main/lib/python3.7/site-packages (from -r SS/requirements379.txt (line 17)) (6.7.0)\n",
      "Collecting jmespath==1.0.1\n",
      "  Downloading jmespath-1.0.1-py3-none-any.whl (20 kB)\n",
      "Collecting joblib==1.3.2\n",
      "  Downloading joblib-1.3.2-py3-none-any.whl (302 kB)\n",
      "\u001b[2K     \u001b[90m━━━━━━━━━━━━━━━━━━━━━━━━━━━━━━━━━━━━━━\u001b[0m \u001b[32m302.2/302.2 kB\u001b[0m \u001b[31m31.0 MB/s\u001b[0m eta \u001b[36m0:00:00\u001b[0m\n",
      "Collecting matchzoo-py==1.1.1\n",
      "  Downloading matchzoo-py-1.1.1.tar.gz (109 kB)\n",
      "\u001b[2K     \u001b[90m━━━━━━━━━━━━━━━━━━━━━━━━━━━━━━━━━━━━━━\u001b[0m \u001b[32m109.7/109.7 kB\u001b[0m \u001b[31m20.5 MB/s\u001b[0m eta \u001b[36m0:00:00\u001b[0m\n",
      "  Preparing metadata (setup.py) ... \u001b[?25ldone\n",
      "Collecting networkx==2.6.3\n",
      "  Downloading networkx-2.6.3-py3-none-any.whl (1.9 MB)\n",
      "\u001b[2K     \u001b[90m━━━━━━━━━━━━━━━━━━━━━━━━━━━━━━━━━━━━━━━━\u001b[0m \u001b[32m1.9/1.9 MB\u001b[0m \u001b[31m38.4 MB/s\u001b[0m eta \u001b[36m0:00:00\u001b[0m00:01\u001b[0m\n",
      "Collecting nltk==3.8.1\n",
      "  Downloading nltk-3.8.1-py3-none-any.whl (1.5 MB)\n",
      "\u001b[2K     \u001b[90m━━━━━━━━━━━━━━━━━━━━━━━━━━━━━━━━━━━━━━━━\u001b[0m \u001b[32m1.5/1.5 MB\u001b[0m \u001b[31m34.8 MB/s\u001b[0m eta \u001b[36m0:00:00\u001b[0m00:01\u001b[0m\n",
      "\u001b[?25hRequirement already satisfied: numpy==1.21.6 in /venv/main/lib/python3.7/site-packages (from -r SS/requirements379.txt (line 23)) (1.21.6)\n",
      "Collecting pandas==0.24.2\n",
      "  Downloading pandas-0.24.2-cp37-cp37m-manylinux1_x86_64.whl (10.1 MB)\n",
      "\u001b[2K     \u001b[90m━━━━━━━━━━━━━━━━━━━━━━━━━━━━━━━━━━━━━━━━\u001b[0m \u001b[32m10.1/10.1 MB\u001b[0m \u001b[31m63.0 MB/s\u001b[0m eta \u001b[36m0:00:00\u001b[0m00:01\u001b[0m0:01\u001b[0m\n",
      "Collecting pymongo==4.7.3\n",
      "  Downloading pymongo-4.7.3-cp37-cp37m-manylinux_2_17_x86_64.manylinux2014_x86_64.whl (655 kB)\n",
      "\u001b[2K     \u001b[90m━━━━━━━━━━━━━━━━━━━━━━━━━━━━━━━━━━━━━━\u001b[0m \u001b[32m655.7/655.7 kB\u001b[0m \u001b[31m43.7 MB/s\u001b[0m eta \u001b[36m0:00:00\u001b[0m\n",
      "\u001b[?25hRequirement already satisfied: python-dateutil==2.9.0.post0 in /venv/main/lib/python3.7/site-packages (from -r SS/requirements379.txt (line 26)) (2.9.0.post0)\n",
      "Collecting pytorch-transformers==1.2.0\n",
      "  Downloading pytorch_transformers-1.2.0-py3-none-any.whl (176 kB)\n",
      "\u001b[2K     \u001b[90m━━━━━━━━━━━━━━━━━━━━━━━━━━━━━━━━━━━━━━\u001b[0m \u001b[32m176.4/176.4 kB\u001b[0m \u001b[31m27.3 MB/s\u001b[0m eta \u001b[36m0:00:00\u001b[0m\n",
      "Collecting pytz==2025.2\n",
      "  Using cached pytz-2025.2-py2.py3-none-any.whl (509 kB)\n",
      "Collecting regex==2024.4.16\n",
      "  Downloading regex-2024.4.16-cp37-cp37m-manylinux_2_17_x86_64.manylinux2014_x86_64.whl (761 kB)\n",
      "\u001b[2K     \u001b[90m━━━━━━━━━━━━━━━━━━━━━━━━━━━━━━━━━━━━━━\u001b[0m \u001b[32m761.6/761.6 kB\u001b[0m \u001b[31m49.8 MB/s\u001b[0m eta \u001b[36m0:00:00\u001b[0m\n",
      "\u001b[?25hRequirement already satisfied: requests==2.31.0 in /venv/main/lib/python3.7/site-packages (from -r SS/requirements379.txt (line 30)) (2.31.0)\n",
      "Collecting s3transfer==0.8.2\n",
      "  Downloading s3transfer-0.8.2-py3-none-any.whl (82 kB)\n",
      "\u001b[2K     \u001b[90m━━━━━━━━━━━━━━━━━━━━━━━━━━━━━━━━━━━━━━━━\u001b[0m \u001b[32m82.0/82.0 kB\u001b[0m \u001b[31m13.9 MB/s\u001b[0m eta \u001b[36m0:00:00\u001b[0m\n",
      "Collecting sacremoses==0.0.53\n",
      "  Downloading sacremoses-0.0.53.tar.gz (880 kB)\n",
      "\u001b[2K     \u001b[90m━━━━━━━━━━━━━━━━━━━━━━━━━━━━━━━━━━━━━━\u001b[0m \u001b[32m880.6/880.6 kB\u001b[0m \u001b[31m32.3 MB/s\u001b[0m eta \u001b[36m0:00:00\u001b[0m\n",
      "  Preparing metadata (setup.py) ... \u001b[?25ldone\n",
      "Collecting scikit-learn==1.0.2\n",
      "  Downloading scikit_learn-1.0.2-cp37-cp37m-manylinux_2_17_x86_64.manylinux2014_x86_64.whl (24.8 MB)\n",
      "\u001b[2K     \u001b[90m━━━━━━━━━━━━━━━━━━━━━━━━━━━━━━━━━━━━━━━━\u001b[0m \u001b[32m24.8/24.8 MB\u001b[0m \u001b[31m47.2 MB/s\u001b[0m eta \u001b[36m0:00:00\u001b[0m00:01\u001b[0m00:01\u001b[0m\n",
      "Collecting scipy==1.7.3\n",
      "  Downloading scipy-1.7.3-cp37-cp37m-manylinux_2_12_x86_64.manylinux2010_x86_64.whl (38.1 MB)\n",
      "\u001b[2K     \u001b[90m━━━━━━━━━━━━━━━━━━━━━━━━━━━━━━━━━━━━━━━━\u001b[0m \u001b[32m38.1/38.1 MB\u001b[0m \u001b[31m41.1 MB/s\u001b[0m eta \u001b[36m0:00:00\u001b[0m00:01\u001b[0m00:01\u001b[0m\n",
      "Collecting sentencepiece==0.2.0\n",
      "  Downloading sentencepiece-0.2.0-cp37-cp37m-manylinux_2_17_x86_64.manylinux2014_x86_64.whl (1.3 MB)\n",
      "\u001b[2K     \u001b[90m━━━━━━━━━━━━━━━━━━━━━━━━━━━━━━━━━━━━━━━━\u001b[0m \u001b[32m1.3/1.3 MB\u001b[0m \u001b[31m44.0 MB/s\u001b[0m eta \u001b[36m0:00:00\u001b[0m\n",
      "Requirement already satisfied: six==1.17.0 in /venv/main/lib/python3.7/site-packages (from -r SS/requirements379.txt (line 36)) (1.17.0)\n",
      "Collecting threadpoolctl==3.1.0\n",
      "  Downloading threadpoolctl-3.1.0-py3-none-any.whl (14 kB)\n",
      "Requirement already satisfied: torch==1.13.1 in /venv/main/lib/python3.7/site-packages (from -r SS/requirements379.txt (line 38)) (1.13.1+cu117)\n",
      "Collecting tqdm==4.38.0\n",
      "  Downloading tqdm-4.38.0-py2.py3-none-any.whl (53 kB)\n",
      "\u001b[2K     \u001b[90m━━━━━━━━━━━━━━━━━━━━━━━━━━━━━━━━━━━━━━━━\u001b[0m \u001b[32m53.6/53.6 kB\u001b[0m \u001b[31m4.1 MB/s\u001b[0m eta \u001b[36m0:00:00\u001b[0m\n",
      "\u001b[?25hRequirement already satisfied: typing_extensions==4.7.1 in /venv/main/lib/python3.7/site-packages (from -r SS/requirements379.txt (line 40)) (4.7.1)\n",
      "Collecting urllib3==1.26.20\n",
      "  Downloading urllib3-1.26.20-py2.py3-none-any.whl (144 kB)\n",
      "\u001b[2K     \u001b[90m━━━━━━━━━━━━━━━━━━━━━━━━━━━━━━━━━━━━━━\u001b[0m \u001b[32m144.2/144.2 kB\u001b[0m \u001b[31m23.2 MB/s\u001b[0m eta \u001b[36m0:00:00\u001b[0m\n",
      "Requirement already satisfied: zipp==3.15.0 in /venv/main/lib/python3.7/site-packages (from -r SS/requirements379.txt (line 42)) (3.15.0)\n",
      "Building wheels for collected packages: matchzoo-py, sacremoses\n",
      "done wheel for matchzoo-py (setup.py) ... \u001b[?25l\n",
      "\u001b[?25h  Created wheel for matchzoo-py: filename=matchzoo_py-1.1.1-py3-none-any.whl size=163955 sha256=b0b1bb7afb97e4771622a08cfce904a1c6039a30ff74986869beac6f0cc9ceeb\n",
      "  Stored in directory: /root/.cache/pip/wheels/59/a0/55/b8d6c596474ed34e536b917a7d692cd139ce9295f7123860f7\n",
      "  Building wheel for sacremoses (setup.py) ... \u001b[?25done\n",
      "\u001b[?25h  Created wheel for sacremoses: filename=sacremoses-0.0.53-py3-none-any.whl size=895250 sha256=8f466aba5566b814752f1f09a78ca094e7b5ec9f2e974eb128bad6aa403f3d25\n",
      "  Stored in directory: /root/.cache/pip/wheels/87/39/dd/a83eeef36d0bf98e7a4d1933a4ad2d660295a40613079bafc9\n",
      "Successfully built matchzoo-py sacremoses\n",
      "Installing collected packages: sentencepiece, pytz, urllib3, tqdm, threadpoolctl, scipy, regex, networkx, joblib, jmespath, h5py, future, dnspython, dill, colorama, charset-normalizer, certifi, scikit-learn, pymongo, pandas, click, botocore, sacremoses, s3transfer, nltk, hyperopt, boto3, pytorch-transformers, matchzoo-py\n",
      "  Attempting uninstall: urllib3\n",
      "    Found existing installation: urllib3 2.0.7\n",
      "    Uninstalling urllib3-2.0.7:\n",
      "      Successfully uninstalled urllib3-2.0.7\n",
      "  Attempting uninstall: tqdm\n",
      "    Found existing installation: tqdm 4.67.1\n",
      "    Uninstalling tqdm-4.67.1:\n",
      "      Successfully uninstalled tqdm-4.67.1\n",
      "  Attempting uninstall: charset-normalizer\n",
      "    Found existing installation: charset-normalizer 3.4.1\n",
      "    Uninstalling charset-normalizer-3.4.1:\n",
      "      Successfully uninstalled charset-normalizer-3.4.1\n",
      "  Attempting uninstall: certifi\n",
      "    Found existing installation: certifi 2025.1.31\n",
      "    Uninstalling certifi-2025.1.31:\n",
      "      Successfully uninstalled certifi-2025.1.31\n",
      "\u001b[31mERROR: pip's dependency resolver does not currently take into account all the packages that are installed. This behaviour is the source of the following dependency conflicts.\n",
      "huggingface-hub 0.16.4 requires tqdm>=4.42.1, but you have tqdm 4.38.0 which is incompatible.\u001b[0m\u001b[31m\n",
      "\u001b[0mSuccessfully installed boto3-1.33.13 botocore-1.33.13 certifi-2025.7.14 charset-normalizer-3.4.2 click-8.1.8 colorama-0.4.6 dill-0.3.7 dnspython-2.3.0 future-1.0.0 h5py-3.8.0 hyperopt-0.1.2 jmespath-1.0.1 joblib-1.3.2 matchzoo-py-1.1.1 networkx-2.6.3 nltk-3.8.1 pandas-0.24.2 pymongo-4.7.3 pytorch-transformers-1.2.0 pytz-2025.2 regex-2024.4.16 s3transfer-0.8.2 sacremoses-0.0.53 scikit-learn-1.0.2 scipy-1.7.3 sentencepiece-0.2.0 threadpoolctl-3.1.0 tqdm-4.38.0 urllib3-1.26.20\n",
      "\n",
      "\u001b[1m[\u001b[0m\u001b[34;49mnotice\u001b[0m\u001b[1;39;49m]\u001b[0m\u001b[39;49m A new release of pip is available: \u001b[0m\u001b[31;49m23.0.1\u001b[0m\u001b[39;49m -> \u001b[0m\u001b[32;49m24.0\u001b[0m\n",
      "\u001b[1m[\u001b[0m\u001b[34;49mnotice\u001b[0m\u001b[1;39;49m]\u001b[0m\u001b[39;49m To update, run: \u001b[0m\u001b[32;49mpip install --upgrade pip\u001b[0m\n"
     ]
    }
   ],
   "source": [
    "!pip install -r SS/requirements379.txt"
   ]
  },
  {
   "cell_type": "code",
   "execution_count": 3,
   "id": "1c33669c-db81-42b7-acca-f4dd5449e660",
   "metadata": {},
   "outputs": [],
   "source": [
    "!cd SS"
   ]
  },
  {
   "cell_type": "code",
   "execution_count": 2,
   "id": "0796f7f4-6432-4799-bf48-706c1a42751d",
   "metadata": {},
   "outputs": [
    {
     "name": "stdout",
     "output_type": "stream",
     "text": [
      "SS  SS.zip  Untitled.ipynb\n"
     ]
    }
   ],
   "source": [
    "!ls"
   ]
  },
  {
   "cell_type": "code",
   "execution_count": 13,
   "id": "f820a0f0-90ef-40a5-84e8-7094bbf239d2",
   "metadata": {},
   "outputs": [
    {
     "name": "stderr",
     "output_type": "stream",
     "text": [
      "[nltk_data] Downloading package punkt to /root/nltk_data...\n",
      "[nltk_data]   Unzipping tokenizers/punkt.zip.\n"
     ]
    },
    {
     "data": {
      "text/plain": [
       "True"
      ]
     },
     "execution_count": 13,
     "metadata": {},
     "output_type": "execute_result"
    }
   ],
   "source": [
    "import nltk\n",
    "nltk.download('punkt')"
   ]
  },
  {
   "cell_type": "code",
   "execution_count": 14,
   "id": "f6344311-8c88-498d-98ef-711073322e1f",
   "metadata": {},
   "outputs": [
    {
     "name": "stdout",
     "output_type": "stream",
     "text": [
      "✅ Sử dụng data pack từ CLI: SS/[method]semantic_splitter\n",
      "Đã tải test data: 594134 samples\n",
      "\n",
      "Cấu hình đánh giá:\n",
      "   Data pack: SS/[method]semantic_splitter\n",
      "   Output file: evaluation_results.csv\n",
      "   Device: cpu\n",
      "   Batch size: 32\n",
      "   Models: Arc-II\n",
      "\n",
      "============================================================\n",
      "BẮT ĐẦU ĐÁNH GIÁ TẤT CẢ CÁC MÔ HÌNH\n",
      "============================================================\n",
      "\n",
      "--- Đánh giá mô hình: Arc-II ---\n",
      "Đã tải preprocessor\n",
      "Processing text_left with chain_transform of Tokenize => Lowercase => PuncRemoval: 100%|█| 207/207 [00:00<00:00, 2462.59it/s]\n",
      "Processing text_right with chain_transform of Tokenize => Lowercase => PuncRemoval: 100%|█| 279260/279260 [01:13<00:00, 3821.41it/s]\n",
      "Processing text_right with transform: 100%|█| 279260/279260 [00:03<00:00, 85582.79it/s] \n",
      "Processing text_left with transform: 100%|█| 207/207 [00:00<00:00, 52070.34it/s]\n",
      "Processing text_right with transform: 100%|█| 279260/279260 [00:03<00:00, 76291.54it/s]\n",
      "Processing length_left with len: 100%|████| 207/207 [00:00<00:00, 343577.73it/s]\n",
      "Processing length_right with len: 100%|█| 279260/279260 [00:00<00:00, 1136725.55it/s]\n",
      "Đã tiền xử lý dữ liệu test\n",
      "Đã tạo test loader\n",
      "Downloading data from http://nlp.stanford.edu/data/glove.6B.zip\n",
      "862183424/862182613 [==============================] - 2295s 3us/step\n",
      "/venv/main/lib/python3.7/site-packages/matchzoo/data_pack/data_pack.py:151: VisibleDeprecationWarning: Creating an ndarray from ragged nested sequences (which is a list-or-tuple of lists-or-tuples-or ndarrays with different lengths or shapes) is deprecated. If you meant to do this, you must specify 'dtype=object' when creating the ndarray.\n",
      "  x[key] = np.array(val)\n",
      "\n",
      "================================================================================\n",
      "KẾT QUẢ ĐÁNH GIÁ MÔ HÌNH - CORE INFORMATION RETRIEVAL METRICS\n",
      "================================================================================\n",
      "CORE METRICS:\n",
      "        MeanAveragePrecision  MeanReciprocalRank  AveragePrecision\n",
      "Arc-II                0.9796              0.9951            0.8378\n",
      "\n",
      "--------------------------------------------------------------------------------\n",
      "DETAILED PRECISION@K METRICS:\n",
      "\n",
      "--------------------------------------------------------------------------------\n",
      "NDCG@K METRICS:\n",
      "\n",
      "--------------------------------------------------------------------------------\n",
      "📊 DCG@K METRICS:\n",
      "\n",
      "================================================================================\n",
      "MODEL RANKING ANALYSIS:\n",
      "   Highest MAP: Arc-II (0.9796)\n",
      "   Highest MRR: Arc-II (0.9951)\n",
      "\n",
      "PERFORMANCE SUMMARY:\n",
      "   Average Ranking (lower is better):\n",
      "    1. Arc-II               (Avg Rank: 1.00)\n",
      "================================================================================\n",
      "Đã lưu kết quả vào evaluation_results.csv\n"
     ]
    }
   ],
   "source": [
    "!python SS/evaluate_models.py -d SS/[method]semantic_splitter --models Arc-II --model-paths SS/my_model/my_model "
   ]
  },
  {
   "cell_type": "code",
   "execution_count": null,
   "id": "15bde93b-331d-42ae-8d16-57c8c8bc74a4",
   "metadata": {},
   "outputs": [],
   "source": []
  },
  {
   "cell_type": "code",
   "execution_count": null,
   "id": "72c226a0-c59e-4621-95bc-1ca387035b68",
   "metadata": {},
   "outputs": [],
   "source": []
  }
 ],
 "metadata": {
  "kernelspec": {
   "display_name": "Python3 (main venv)",
   "language": "python",
   "name": "main"
  },
  "language_info": {
   "codemirror_mode": {
    "name": "ipython",
    "version": 3
   },
   "file_extension": ".py",
   "mimetype": "text/x-python",
   "name": "python",
   "nbconvert_exporter": "python",
   "pygments_lexer": "ipython3",
   "version": "3.7.17"
  }
 },
 "nbformat": 4,
 "nbformat_minor": 5
}
